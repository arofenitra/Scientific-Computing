{
  "nbformat": 4,
  "nbformat_minor": 0,
  "metadata": {
    "colab": {
      "provenance": [],
      "authorship_tag": "ABX9TyMe8ns5seukU+X/rHc3VEcx",
      "include_colab_link": true
    },
    "kernelspec": {
      "name": "python3",
      "display_name": "Python 3"
    },
    "language_info": {
      "name": "python"
    }
  },
  "cells": [
    {
      "cell_type": "markdown",
      "metadata": {
        "id": "view-in-github",
        "colab_type": "text"
      },
      "source": [
        "<a href=\"https://colab.research.google.com/github/arofenitra/Scientific-Computing/blob/main/image_processing/image_compression.ipynb\" target=\"_parent\"><img src=\"https://colab.research.google.com/assets/colab-badge.svg\" alt=\"Open In Colab\"/></a>"
      ]
    },
    {
      "cell_type": "markdown",
      "source": [
        "# Definition, methods\n",
        "- Goal : To reduce the cost of storage of a digital image.\n",
        "\n",
        "- Lossy and lossless image compression\n",
        "Lossless compression when no information is lost during the compression-decompression process, The perfect recovery of the original image is achieved. Otherwise it is lossy compression.\n",
        "- Methods : Lossy compression, using Transform coding (DCT compression and Wavelet based image compression)  \n",
        "\n",
        "<img src=\"https://www.researchgate.net/publication/343751727/figure/fig1/AS:964615429173252@1606993648698/mage-Compression-Method.ppm\">  \n",
        "\n",
        "Wavelet based compression:   \n",
        "<img src=\"https://www.researchgate.net/publication/3308674/figure/fig1/AS:654411101638656@1533035173066/a-Block-diagram-of-the-JPEG-2000-encoder-algorithm-b-Dataflow.png\">  \n",
        "\n",
        "DCT based compression:  \n",
        "<img src=\"https://www.researchgate.net/publication/229038449/figure/fig4/AS:667829439311887@1536234354786/Block-diagram-of-sequential-JPEG-encoder-and-decoder-JPEG-Encoder-The-original-samples.png\">  \n"
      ],
      "metadata": {
        "id": "BqpcNKaATCzK"
      }
    },
    {
      "cell_type": "markdown",
      "source": [
        "### JPEG Image compression\n",
        "We will follow the algorithm :\n",
        "\n",
        "\n",
        "- **JPEG Compression**:\n",
        "\n",
        "1. **Color Space Conversion**:  \n",
        "The input image is converted from RGB (Red, Green, Blue) color space to YCbCr (Luminance and Chrominance) color space.\n",
        "Chroma Subsampling: The chrominance components (Cb and Cr) are subsampled by a factor of 2 in both horizontal and vertical directions, resulting in a reduced-resolution image.\n",
        "2. **Discrete Cosine Transform (DCT)**:  \n",
        " The luminance (Y) and chrominance (Cb and Cr) components are divided into 8x8 blocks and transformed using the DCT, which converts the spatial domain data into frequency domain data.\n",
        "3. **Quantization**:  \n",
        "The DCT coefficients are quantized to reduce the precision of the coefficients and discard some of the high-frequency components.\n",
        "4. **Zigzag Reordering**:   \n",
        "The quantized coefficients are reordered in a zigzag pattern to group the low-frequency coefficients together.\n",
        "5. **Run-Length Encoding (RLE)**:  \n",
        "The reordered coefficients are encoded using RLE, which replaces sequences of zeros with a single value.\n",
        "6. **Huffman Coding**:  \n",
        "The RLE-encoded coefficients are encoded using Huffman coding, which assigns variable-length codes to the coefficients based on their frequency of occurrence.\n",
        "6. **Bitstream Formation**:  \n",
        "The Huffman-coded coefficients are formed into a bitstream, which is the compressed JPEG image.  \n",
        "\n",
        "- **JPEG Decompression**:\n",
        "\n",
        "7. **Bitstream Extraction**:  \n",
        "The compressed JPEG image is extracted from the bitstream.\n",
        "8. **Huffman Decoding**:  \n",
        "The Huffman-coded coefficients are decoded using Huffman decoding, which reverses the variable-length coding.\n",
        "9. **Run-Length Decoding**:  \n",
        "The RLE-encoded coefficients are decoded using RLE decoding, which replaces the single values with sequences of zeros.\n",
        "10. **Zigzag Reordering**:  \n",
        "The reordered coefficients are reordered in the original zigzag pattern.\n",
        "11. **Inverse Quantization**:  \n",
        "The quantized coefficients are inverse quantized to restore the original precision.\n",
        "12. **Inverse Discrete Cosine Transform (IDCT)**:  \n",
        "The IDCT is applied to the inverse quantized coefficients to transform the frequency domain data back into spatial domain data.\n",
        "13. **Chroma Upsampling**:  \n",
        "The chrominance components (Cb and Cr) are upsampled to their original resolution.\n",
        "14. **Color Space Conversion**:  \n",
        "The YCbCr image is converted back to RGB color space.\n",
        "15. **Image Reconstruction**: The decompressed image is reconstructed from the RGB components."
      ],
      "metadata": {
        "id": "DwoMGJhxeYLe"
      }
    },
    {
      "cell_type": "code",
      "execution_count": null,
      "metadata": {
        "id": "58fdofXlS5ws"
      },
      "outputs": [],
      "source": []
    }
  ]
}