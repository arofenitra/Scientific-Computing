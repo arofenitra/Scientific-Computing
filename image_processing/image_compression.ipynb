{
  "nbformat": 4,
  "nbformat_minor": 0,
  "metadata": {
    "colab": {
      "provenance": [],
      "authorship_tag": "ABX9TyOY8dkeFeLOWf01YmvdSXkM",
      "include_colab_link": true
    },
    "kernelspec": {
      "name": "python3",
      "display_name": "Python 3"
    },
    "language_info": {
      "name": "python"
    }
  },
  "cells": [
    {
      "cell_type": "markdown",
      "metadata": {
        "id": "view-in-github",
        "colab_type": "text"
      },
      "source": [
        "<a href=\"https://colab.research.google.com/github/arofenitra/Scientific-Computing/blob/main/image_processing/image_compression.ipynb\" target=\"_parent\"><img src=\"https://colab.research.google.com/assets/colab-badge.svg\" alt=\"Open In Colab\"/></a>"
      ]
    },
    {
      "cell_type": "markdown",
      "source": [
        "# Definition, methods\n",
        "- Goal : To reduce the cost of storage of a digital image.\n",
        "\n",
        "- Lossy and lossless image compression\n",
        "Lossless compression when no information is lost during the compression-decompression process, The perfect recovery of the original image is achieved. Otherwise it is lossy compression.\n",
        "- Methods : Lossy compression, using Transform coding (DCT compression and Wavelet based image compression)\n",
        "\n",
        "<img src=\"https://www.researchgate.net/publication/343751727/figure/fig1/AS:964615429173252@1606993648698/mage-Compression-Method.ppm\">\n",
        "Wavelet based compression:   \n",
        "<img src=\"https://www.researchgate.net/publication/3308674/figure/fig1/AS:654411101638656@1533035173066/a-Block-diagram-of-the-JPEG-2000-encoder-algorithm-b-Dataflow.png\">\n",
        "DCT based compression:  \n",
        "<img src=\"https://www.researchgate.net/publication/229038449/figure/fig4/AS:667829439311887@1536234354786/Block-diagram-of-sequential-JPEG-encoder-and-decoder-JPEG-Encoder-The-original-samples.png\">\n"
      ],
      "metadata": {
        "id": "BqpcNKaATCzK"
      }
    },
    {
      "cell_type": "code",
      "execution_count": null,
      "metadata": {
        "id": "58fdofXlS5ws"
      },
      "outputs": [],
      "source": []
    }
  ]
}