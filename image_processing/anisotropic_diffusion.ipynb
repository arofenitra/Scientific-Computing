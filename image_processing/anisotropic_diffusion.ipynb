{
  "nbformat": 4,
  "nbformat_minor": 0,
  "metadata": {
    "colab": {
      "provenance": [],
      "authorship_tag": "ABX9TyNpachqjgqMKklF854kUsWC",
      "include_colab_link": true
    },
    "kernelspec": {
      "name": "python3",
      "display_name": "Python 3"
    },
    "language_info": {
      "name": "python"
    }
  },
  "cells": [
    {
      "cell_type": "markdown",
      "metadata": {
        "id": "view-in-github",
        "colab_type": "text"
      },
      "source": [
        "<a href=\"https://colab.research.google.com/github/arofenitra/Scientific-Computing/blob/main/image_processing/anisotropic_diffusion.ipynb\" target=\"_parent\"><img src=\"https://colab.research.google.com/assets/colab-badge.svg\" alt=\"Open In Colab\"/></a>"
      ]
    },
    {
      "cell_type": "markdown",
      "source": [
        "### Definition\n",
        "\n",
        "Formally, let ${\\displaystyle \\Omega \\subset \\mathbb {R} ^{2}}$ denote a subset of the plane and ${\\displaystyle I(\\cdot ,t):\\Omega \\rightarrow \\mathbb {R} }$ be a family of gray scale images.\n",
        " ${\\displaystyle I(\\cdot ,0)}$ is the input image. Then anisotropic diffusion is defined as\n",
        "$$\n",
        " {\\displaystyle {\\frac {\\partial I}{\\partial t}}=\\operatorname {div} \\left(c\\left(\\|\\nabla I\\|\\right)\\nabla I\\right)=\\nabla c\\cdot \\nabla I+c\\left(\\|\\nabla I\\|\\right)\\,\\Delta I}$$\n",
        " Where ${\\displaystyle c\\left(\\|\\nabla I\\|\\right)}$ is the diffusion coefficient.\n",
        " Some research (Perona and Malik) proposed diffusion coefficient as :\n",
        "$$ {\\displaystyle c\\left(\\|\\nabla I\\|\\right)=e^{-\\left(\\|\\nabla I\\|/K\\right)^{2}}}$$\n",
        "and\n",
        "$${\\displaystyle c\\left(\\|\\nabla I\\|\\right)={\\frac {1}{1+\\left({\\frac {\\|\\nabla I\\|}{K}}\\right)^{2}}}}$$\n",
        "the constant K controls the sensitivity to edges and is usually chosen experimentally or as a function of the noise in the image.\n"
      ],
      "metadata": {
        "id": "JlQX3r-uF_aU"
      }
    },
    {
      "cell_type": "markdown",
      "source": [
        "### Edge enhancement\n",
        "We want to find $c\\left(\\|\\nabla I\\|\\right)$ such that the sharp boundaries is maintained.\n",
        "- **case of one dimension**:\n",
        "\n",
        "$$\n",
        " {\\displaystyle {\\frac {\\partial I}{\\partial t}}=\\operatorname {div} \\left(c\\left(\\|\\nabla I\\|\\right)\\nabla I\\right)=\\nabla c\\cdot \\nabla I+c\\left(\\|\\nabla I\\|\\right)\\,\\Delta I}$$\n",
        "\n",
        "\n",
        " $$\\frac{∂I}{∂t}=\\frac{∂c}{∂x}\\frac{∂I}{∂x}+c\\frac{∂^2I}{∂x^2}$$\n",
        " Consider $ϕ(∂_xI)=c(|∂_xI|)∂_xI$ and we assume that $c>0$. We have\n",
        " $$∂_t(∂_xI)=∂_x(∂_tI)=∂_x(∂_x(c∂_xI))=∂_{xx}ϕ(∂_xI)=ϕ^{\"}(∂_xI)∂_{xx}^2I+ϕ^{'}(∂_xI)∂_{xxx}I$$\n",
        " For some edge that have orientation (and $∂_xI>0$), $∂_{xx}I=0$ and $∂_{xxx}I<0$ at the point of inflexion, so that\n",
        "t the slope of the edge will increase for $φ'(∂_xI) < 0$ and decrease for $φ'(∂_xI) > 0$. So at some $τ :∂xu<τ$ we will have edge blurring and edge sharpening will occur otherwise.\n",
        "- **case of 2 dimension**:\n",
        "We have from the above reasoning, at some $τ$ :\n",
        "$$\\begin{cases}\\phi'(|∇I|)>0 & |\\nabla I|<τ \\\\\\phi'(|∇I|)<0 & \\text{otherwise} \\end{cases}$$\n",
        "We can choose one of the following that satisfy the above :\n",
        "$$ {\\displaystyle c\\left(\\|\\nabla I\\|\\right)=e^{-\\left(\\|\\nabla I\\|/K\\right)^{2}}}$$\n",
        "and\n",
        "$${\\displaystyle c\\left(\\|\\nabla I\\|\\right)={\\frac {1}{1+\\left({\\frac {\\|\\nabla I\\|}{K}}\\right)^{2}}}}$$"
      ],
      "metadata": {
        "id": "AhMi8De_MLHA"
      }
    },
    {
      "cell_type": "markdown",
      "source": [
        "### Finite Difference Methods\n",
        "We can use forward difference method to simulate is numerically :\n",
        "\n",
        "$$\\frac{∂}{∂t}I(x_i,y_j,t_k)≈\\frac{1}{Δt}(I(x_i,y_j,t_{k+1})-I(x_i,y_j,t_{k})$$\n",
        "$$\\frac{∂}{∂x}I(x_i,y_j,t_k)≈\\frac{1}{Δx}(I(x_{i+1},y_j,t_{k})-I(x_i,y_j,t_{k})$$\n",
        "$$\\frac{∂}{∂y}I(x_i,y_j,t_k)≈\\frac{1}{Δy}(I(x_{i},y_{j+1},t_{k})-I(x_i,y_j,t_{k})$$\n",
        "$$\\frac{∂^2}{∂x^2}I(x_i,y_j,t_k)≈\\frac{1}{Δx^2}(I(x_{i+1},y_j,t_{k})-2I(x_i,y_j,t_{k})+I(x_{i-1},y_j,t_k)$$\n",
        "$$\\frac{∂^2}{∂y^2}I(x_i,y_j,t_k)≈\\frac{1}{Δx^2}(I(x_{i},y_{j+1},t_{k})-2I(x_i,y_j,t_{k})+I(x_{i},y_{j-1},t_k)$$\n",
        "We can have the folowing\n",
        "$$c(|∇I|^2)∇I=c\\cdot \\left[\\frac{∂I}{∂x},\\frac{∂I}{∂y}\\right]^T$$\n",
        "$$≈c(|∇I_{i,j}|^2)\\left[\\frac{1}{Δx}(I_{i+0.5,j}-I_{i-0.5,j})\\; , \\;  \\frac{1}{Δy}(I_{i,j+0.5}-I_{i,j-0.5})\\right]^T$$\n",
        "Hence :\n",
        "$$div(c(|∇I|^2)∇I)=\\left[\\frac{∂}{∂x}, \\frac{∂}{∂y}\\right]\\cdot \\left(c(|∇I|^2)∇I \\right)$$\n",
        "$$≈\\frac{∂}{∂y}\\left[c(|∇I_{i,j}|^2)\\frac{1}{Δy}(I_{i,j+0.5}-I_{i,j-0.5}) \\right]+\\frac{∂}{∂x}\\left[c(|∇I_{i,j}|^2)\\frac{1}{Δx}(I_{i+0.5,j}-I_{i-0.5,j}) \\right]$$\n",
        "$$≈\\frac{1}{\\Delta y}\\left[c(|∇I_{i,j+0.5}|^2)\\frac{1}{Δy}(I_{i,j+1}-I_{i,j})-c(|∇I_{i,j-0.5}|^2)\\frac{1}{Δy}(I_{i,j}-I_{i,j-1}) \\right]+\n",
        "\\frac{1}{\\Delta x}\\left[c(|∇I_{i+0.5,j}|^2)\\frac{1}{Δx}(I_{i+1,j}-I_{i,j})-c(|∇I_{i-0.5,j}|^2)\\frac{1}{Δx}(I_{i,j}-I_{i-1,j}) \\right]$$\n",
        "We can take average so that\n",
        "$$c(|∇I_{i+0.5,j}|^2)≈\\frac{1}{2}\\left( c(|∇I_{i+1,j}|^2)+c(|∇I_{i,j}|^2)\\right)$$\n",
        "$$c(|∇I_{i-0.5,j}|^2)≈\\frac{1}{2}\\left( c(|∇I_{i,j}|^2)+c(|∇I_{i-1,j}|^2)\\right)$$\n",
        "$$c(|∇I_{i,j+0.5}|^2)≈\\frac{1}{2}\\left( c(|∇I_{i,j+1}|^2)+c(|∇I_{i,j}|^2)\\right)$$\n",
        "$$c(|∇I_{i,j-0.5}|^2)≈\\frac{1}{2}\\left( c(|∇I_{i,j}|^2)+c(|∇I_{i,j-1}|^2)\\right)$$\n",
        "For the uniform grid, $Δx=Δy=1$, we can have the implicit $I_{i,j,k}=I(x_i,y_j,t_k)$"
      ],
      "metadata": {
        "id": "H34nsSxYS4qb"
      }
    },
    {
      "cell_type": "code",
      "source": [],
      "metadata": {
        "id": "Cl45mPsWIgMt"
      },
      "execution_count": null,
      "outputs": []
    },
    {
      "cell_type": "code",
      "execution_count": null,
      "metadata": {
        "id": "waDqGRFlF4lS"
      },
      "outputs": [],
      "source": []
    }
  ]
}